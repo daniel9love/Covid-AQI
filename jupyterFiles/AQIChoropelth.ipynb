{
 "cells": [
  {
   "cell_type": "code",
   "execution_count": 1,
   "metadata": {},
   "outputs": [],
   "source": [
    "# Import Dependencies\n",
    "import pandas as pd"
   ]
  },
  {
   "cell_type": "code",
   "execution_count": 2,
   "metadata": {},
   "outputs": [
    {
     "output_type": "execute_result",
     "data": {
      "text/plain": "       Date  AQI mainPollutant        City    State\n0  4/5/2020   58         Ozone  Birmingham  Alabama\n1  4/6/2020   74         Ozone  Birmingham  Alabama\n2  4/7/2020   60         PM2.5  Birmingham  Alabama\n3  4/8/2020   56         PM2.5  Birmingham  Alabama\n4  4/9/2020   44         Ozone  Birmingham  Alabama",
      "text/html": "<div>\n<style scoped>\n    .dataframe tbody tr th:only-of-type {\n        vertical-align: middle;\n    }\n\n    .dataframe tbody tr th {\n        vertical-align: top;\n    }\n\n    .dataframe thead th {\n        text-align: right;\n    }\n</style>\n<table border=\"1\" class=\"dataframe\">\n  <thead>\n    <tr style=\"text-align: right;\">\n      <th></th>\n      <th>Date</th>\n      <th>AQI</th>\n      <th>mainPollutant</th>\n      <th>City</th>\n      <th>State</th>\n    </tr>\n  </thead>\n  <tbody>\n    <tr>\n      <th>0</th>\n      <td>4/5/2020</td>\n      <td>58</td>\n      <td>Ozone</td>\n      <td>Birmingham</td>\n      <td>Alabama</td>\n    </tr>\n    <tr>\n      <th>1</th>\n      <td>4/6/2020</td>\n      <td>74</td>\n      <td>Ozone</td>\n      <td>Birmingham</td>\n      <td>Alabama</td>\n    </tr>\n    <tr>\n      <th>2</th>\n      <td>4/7/2020</td>\n      <td>60</td>\n      <td>PM2.5</td>\n      <td>Birmingham</td>\n      <td>Alabama</td>\n    </tr>\n    <tr>\n      <th>3</th>\n      <td>4/8/2020</td>\n      <td>56</td>\n      <td>PM2.5</td>\n      <td>Birmingham</td>\n      <td>Alabama</td>\n    </tr>\n    <tr>\n      <th>4</th>\n      <td>4/9/2020</td>\n      <td>44</td>\n      <td>Ozone</td>\n      <td>Birmingham</td>\n      <td>Alabama</td>\n    </tr>\n  </tbody>\n</table>\n</div>"
     },
     "metadata": {},
     "execution_count": 2
    }
   ],
   "source": [
    "# Import files\n",
    "aqi_data = pd.read_csv(\"../Resources/CityAQIData.csv\")\n",
    "ordinances_data = pd.read_csv(\"../Resources/StateOrdinances.csv\")\n",
    "pop_data = pd.read_csv(\"../Resources/CityPopulation.csv\")\n",
    "\n",
    "aqi_data.head()"
   ]
  },
  {
   "cell_type": "code",
   "execution_count": 3,
   "metadata": {},
   "outputs": [
    {
     "output_type": "execute_result",
     "data": {
      "text/plain": "        State         City    AQI\n0     Alabama   Birmingham  55.89\n1      Alaska    Anchorage  19.50\n2     Arizona      Phoenix  54.23\n3    Arkansas  Little Rock  43.83\n4  California  Los Angeles  47.24",
      "text/html": "<div>\n<style scoped>\n    .dataframe tbody tr th:only-of-type {\n        vertical-align: middle;\n    }\n\n    .dataframe tbody tr th {\n        vertical-align: top;\n    }\n\n    .dataframe thead th {\n        text-align: right;\n    }\n</style>\n<table border=\"1\" class=\"dataframe\">\n  <thead>\n    <tr style=\"text-align: right;\">\n      <th></th>\n      <th>State</th>\n      <th>City</th>\n      <th>AQI</th>\n    </tr>\n  </thead>\n  <tbody>\n    <tr>\n      <th>0</th>\n      <td>Alabama</td>\n      <td>Birmingham</td>\n      <td>55.89</td>\n    </tr>\n    <tr>\n      <th>1</th>\n      <td>Alaska</td>\n      <td>Anchorage</td>\n      <td>19.50</td>\n    </tr>\n    <tr>\n      <th>2</th>\n      <td>Arizona</td>\n      <td>Phoenix</td>\n      <td>54.23</td>\n    </tr>\n    <tr>\n      <th>3</th>\n      <td>Arkansas</td>\n      <td>Little Rock</td>\n      <td>43.83</td>\n    </tr>\n    <tr>\n      <th>4</th>\n      <td>California</td>\n      <td>Los Angeles</td>\n      <td>47.24</td>\n    </tr>\n  </tbody>\n</table>\n</div>"
     },
     "metadata": {},
     "execution_count": 3
    }
   ],
   "source": [
    "aqiAverages = aqi_data.groupby(['State', 'City']).mean()\n",
    "aqiAverages.reset_index(drop = False, inplace = True)\n",
    "# aqiAverages = aqiAverages2[['City', 'AQI']]\n",
    "aqiAverages = aqiAverages.round(2)\n",
    "aqiAverages.head()"
   ]
  },
  {
   "cell_type": "code",
   "execution_count": 4,
   "metadata": {},
   "outputs": [
    {
     "output_type": "execute_result",
     "data": {
      "text/plain": "         State         City    AQI  Population ShelterinPlaceOrdinance\nAL     Alabama   Birmingham  55.89      209880              2020-04-04\nAK      Alaska    Anchorage  19.50      291538              2020-03-28\nAZ     Arizona      Phoenix  54.23     1660272              2020-03-31\nAR    Arkansas  Little Rock  43.83      197881                     NaT\nCA  California  Los Angeles  47.24     3990456              2020-03-19",
      "text/html": "<div>\n<style scoped>\n    .dataframe tbody tr th:only-of-type {\n        vertical-align: middle;\n    }\n\n    .dataframe tbody tr th {\n        vertical-align: top;\n    }\n\n    .dataframe thead th {\n        text-align: right;\n    }\n</style>\n<table border=\"1\" class=\"dataframe\">\n  <thead>\n    <tr style=\"text-align: right;\">\n      <th></th>\n      <th>State</th>\n      <th>City</th>\n      <th>AQI</th>\n      <th>Population</th>\n      <th>ShelterinPlaceOrdinance</th>\n    </tr>\n  </thead>\n  <tbody>\n    <tr>\n      <th>AL</th>\n      <td>Alabama</td>\n      <td>Birmingham</td>\n      <td>55.89</td>\n      <td>209880</td>\n      <td>2020-04-04</td>\n    </tr>\n    <tr>\n      <th>AK</th>\n      <td>Alaska</td>\n      <td>Anchorage</td>\n      <td>19.50</td>\n      <td>291538</td>\n      <td>2020-03-28</td>\n    </tr>\n    <tr>\n      <th>AZ</th>\n      <td>Arizona</td>\n      <td>Phoenix</td>\n      <td>54.23</td>\n      <td>1660272</td>\n      <td>2020-03-31</td>\n    </tr>\n    <tr>\n      <th>AR</th>\n      <td>Arkansas</td>\n      <td>Little Rock</td>\n      <td>43.83</td>\n      <td>197881</td>\n      <td>NaT</td>\n    </tr>\n    <tr>\n      <th>CA</th>\n      <td>California</td>\n      <td>Los Angeles</td>\n      <td>47.24</td>\n      <td>3990456</td>\n      <td>2020-03-19</td>\n    </tr>\n  </tbody>\n</table>\n</div>"
     },
     "metadata": {},
     "execution_count": 4
    }
   ],
   "source": [
    "# Merging population and state ordinance df\n",
    "state_data2 = pd.merge(pop_data, ordinances_data, on='Abbr')\n",
    "\n",
    "# Droping unneeded columns\n",
    "state_data = state_data2[['State', 'Abbr', 'Population', 'ShelterinPlaceOrdinance']]\n",
    "\n",
    "# Merging aqi and state df\n",
    "city_data = pd.merge(aqiAverages, state_data, on='State')\n",
    "\n",
    "# Cleaning up df\n",
    "city_data = city_data.set_index('Abbr') \n",
    "del city_data.index.name\n",
    "city_data['ShelterinPlaceOrdinance'] = pd.to_datetime(city_data['ShelterinPlaceOrdinance'], format = \"%m/%d/%Y\")\n",
    "city_data.head()"
   ]
  },
  {
   "cell_type": "code",
   "execution_count": 5,
   "metadata": {},
   "outputs": [],
   "source": [
    "# Switching index and headers\n",
    "json = city_data.T\n",
    "json.to_json(\"../static/data/CityData.json\")"
   ]
  },
  {
   "cell_type": "code",
   "execution_count": null,
   "metadata": {},
   "outputs": [],
   "source": []
  }
 ],
 "metadata": {
  "kernelspec": {
   "display_name": "Python 3",
   "language": "python",
   "name": "python3"
  },
  "language_info": {
   "codemirror_mode": {
    "name": "ipython",
    "version": 3
   },
   "file_extension": ".py",
   "mimetype": "text/x-python",
   "name": "python",
   "nbconvert_exporter": "python",
   "pygments_lexer": "ipython3",
   "version": "3.7.5-final"
  }
 },
 "nbformat": 4,
 "nbformat_minor": 2
}